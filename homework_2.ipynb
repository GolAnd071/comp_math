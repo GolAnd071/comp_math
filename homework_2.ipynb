{
 "cells": [
  {
   "cell_type": "code",
   "execution_count": 1,
   "id": "d12fe704-c71f-47f8-8caa-cc930b511eee",
   "metadata": {},
   "outputs": [],
   "source": [
    "import numpy as np\n",
    "import scipy\n",
    "import matplotlib.pyplot as plt\n",
    "import itertools"
   ]
  },
  {
   "cell_type": "markdown",
   "id": "e3fb152a-0204-428e-b034-2ea83bd7e6ee",
   "metadata": {},
   "source": [
    "# Problem 1"
   ]
  },
  {
   "cell_type": "code",
   "execution_count": 2,
   "id": "dfcc15cb-0ad6-4616-aa85-bb3184ac0983",
   "metadata": {},
   "outputs": [],
   "source": [
    "# Реализую произвольную m,n, верхнетреугольную и симметричную. Остальное на вас - вам нужно дописать функцию.\n",
    "# Не забудьте откомментировать ваши изменения в документации к функции!\n",
    "\n",
    "import numpy as np\n",
    "\n",
    "def matrix_generate(rows, columns, type_ = \"full\", eps = 0):\n",
    "    \"\"\"\n",
    "    matrix_generate(rows, columns, type_ = \"full\")\n",
    "\n",
    "    Создаёт случайную матрицу выбранного типа.\n",
    "\n",
    "    Если матрицу нужных размеров создать нельзя должен выдать\n",
    "    строку f\"Error with type {type_} and shape ({rows},{columns})\".\n",
    "\n",
    "    Parameters\n",
    "    ----------\n",
    "\n",
    "    rows : int\n",
    "        Количество строк в создаваемой матрице.\n",
    "    columns : int\n",
    "        Количество столбцов в создаваемой матрице.\n",
    "    type_ : str, optional\n",
    "        Тип создаваемой матрицы: \"full\", \"upper_triangular\", \"symmetric\" и т.д.\n",
    "    eps: float, optional\n",
    "        Дополнительное число, использующееся при генерации для некоторых типов матриц.\n",
    "\n",
    "    Returns\n",
    "    -------\n",
    "    out : ndarray or str\n",
    "        Выдаёт матрицу нужного типа либо ошибку.\n",
    "\n",
    "    Notes\n",
    "    -----\n",
    "    Поддерживаемые типы матриц:\n",
    "        \"full\",\"diagonal\",\"upper_triangular\",\"lower_triangulation\",\n",
    "        \"symmetric\",\"degenerate\",\"step\",\"perturbation\"\n",
    "\n",
    "    \"\"\"\n",
    "\n",
    "    A = None\n",
    "\n",
    "    if type_ == \"full\":\n",
    "\n",
    "        A = np.random.random(size=(rows, columns))\n",
    "\n",
    "    elif type_ == \"diagonal\":\n",
    "\n",
    "        if rows != columns:\n",
    "            return f\"Error with type {type_} and shape ({rows},{columns})\"\n",
    "\n",
    "        else:\n",
    "        \n",
    "            A = np.random.random(size=(rows, columns)) * np.eye(rows)\n",
    "\n",
    "    elif type_ == \"upper_triangular\":\n",
    "\n",
    "        A = np.triu(np.random.random(size=(rows, columns)))\n",
    "\n",
    "    elif type_ == \"lower_triangular\":\n",
    "\n",
    "        A = np.tril(np.random.random(size=(rows, columns)))\n",
    "\n",
    "    elif type_ == \"symmetric\":\n",
    "\n",
    "        if rows != columns:\n",
    "            return f\"Error with type {type_} and shape ({rows},{columns})\"\n",
    "\n",
    "        else:\n",
    "\n",
    "            A = np.random.random(size=(rows, columns))\n",
    "            A = np.triu(A) + np.triu(A, 1).T\n",
    "\n",
    "    elif type_ == \"degenerate\":\n",
    "\n",
    "        if rows != columns:\n",
    "            return f\"Error with type {type_} and shape ({rows},{columns})\"\n",
    "\n",
    "        else:\n",
    "\n",
    "            A = np.random.random(size=(rows, columns - 1))\n",
    "            B = np.random.random(size=(rows - 1, columns))\n",
    "            A = A @ B\n",
    "\n",
    "    elif type_ == \"step\":\n",
    "\n",
    "        if rows < columns:\n",
    "            return f\"Error with type {type_} and shape ({rows},{columns})\"\n",
    "\n",
    "        else:\n",
    "\n",
    "            A = np.triu(np.random.random((rows, rows)), 1) + np.eye(rows)\n",
    "            indices = list(range(rows))\n",
    "            np.random.shuffle(indices)\n",
    "            A = np.delete(A, indices[:rows - columns], axis=0)\n",
    "            A = np.concatenate((A, np.zeros((rows - columns, rows))), axis=0)\n",
    "\n",
    "    elif type_ == \"perturbation\":\n",
    "\n",
    "        A = np.random.uniform(-eps, eps, size=(rows, columns))\n",
    "\n",
    "    return A"
   ]
  },
  {
   "cell_type": "code",
   "execution_count": 3,
   "id": "1a9b6db7-dce1-446d-af23-429316bd2d77",
   "metadata": {},
   "outputs": [
    {
     "data": {
      "text/plain": [
       "array([[0.30457066, 0.34572929, 0.01101198]])"
      ]
     },
     "execution_count": 3,
     "metadata": {},
     "output_type": "execute_result"
    }
   ],
   "source": [
    "matrix_generate(1, 3)"
   ]
  },
  {
   "cell_type": "code",
   "execution_count": 4,
   "id": "04f7879d-84dd-4956-bb99-32d1d2804aaa",
   "metadata": {},
   "outputs": [
    {
     "data": {
      "text/plain": [
       "array([[0.31615138, 0.68061697, 0.34437603, 0.50793174],\n",
       "       [0.        , 0.03642237, 0.38421533, 0.04946769],\n",
       "       [0.        , 0.        , 0.07736722, 0.87783467],\n",
       "       [0.        , 0.        , 0.        , 0.74304887]])"
      ]
     },
     "execution_count": 4,
     "metadata": {},
     "output_type": "execute_result"
    }
   ],
   "source": [
    "matrix_generate(4, 4, type_ = \"upper_triangular\")"
   ]
  },
  {
   "cell_type": "code",
   "execution_count": 5,
   "id": "05dd68b1-f1c9-4589-b420-8c6018fd2c8e",
   "metadata": {},
   "outputs": [
    {
     "data": {
      "text/plain": [
       "array([[0.61429716, 0.58062905, 0.20908134],\n",
       "       [0.        , 0.00331656, 0.56781641],\n",
       "       [0.        , 0.        , 0.66926465],\n",
       "       [0.        , 0.        , 0.        ]])"
      ]
     },
     "execution_count": 5,
     "metadata": {},
     "output_type": "execute_result"
    }
   ],
   "source": [
    "matrix_generate(4, 3, type_ = \"upper_triangular\")"
   ]
  },
  {
   "cell_type": "code",
   "execution_count": 6,
   "id": "599d0fd5-0edb-4e84-bc64-08d20cebfe28",
   "metadata": {},
   "outputs": [
    {
     "data": {
      "text/plain": [
       "array([[0.61712748, 0.        , 0.        , 0.        ],\n",
       "       [0.13091057, 0.47199535, 0.        , 0.        ],\n",
       "       [0.44736078, 0.13757738, 0.11064416, 0.        ],\n",
       "       [0.46532976, 0.37207999, 0.80871201, 0.98222524]])"
      ]
     },
     "execution_count": 6,
     "metadata": {},
     "output_type": "execute_result"
    }
   ],
   "source": [
    "matrix_generate(4, 4, type_ = \"lower_triangular\")"
   ]
  },
  {
   "cell_type": "code",
   "execution_count": 7,
   "id": "46308ef7-d2a7-4bcb-9e4b-a708d9b4e6df",
   "metadata": {},
   "outputs": [
    {
     "data": {
      "text/plain": [
       "array([[0.8634245 , 0.        , 0.        ],\n",
       "       [0.68554658, 0.27276342, 0.        ],\n",
       "       [0.47171492, 0.59031793, 0.9158175 ],\n",
       "       [0.88043066, 0.58864058, 0.40149404]])"
      ]
     },
     "execution_count": 7,
     "metadata": {},
     "output_type": "execute_result"
    }
   ],
   "source": [
    "matrix_generate(4, 3, type_ = \"lower_triangular\")"
   ]
  },
  {
   "cell_type": "code",
   "execution_count": 8,
   "id": "6d3b4ffb-0fb1-4e5b-be1c-6f1a5d60fa64",
   "metadata": {},
   "outputs": [
    {
     "data": {
      "text/plain": [
       "array([[0.18327508, 0.6127774 , 0.24782342, 0.3956925 ],\n",
       "       [0.6127774 , 0.39933971, 0.31742463, 0.1059483 ],\n",
       "       [0.24782342, 0.31742463, 0.64985609, 0.78993736],\n",
       "       [0.3956925 , 0.1059483 , 0.78993736, 0.78243694]])"
      ]
     },
     "execution_count": 8,
     "metadata": {},
     "output_type": "execute_result"
    }
   ],
   "source": [
    "matrix_generate(4, 4, type_ = \"symmetric\")"
   ]
  },
  {
   "cell_type": "code",
   "execution_count": 9,
   "id": "c9f8a532-ef3d-4731-a1ed-ab026ea801d1",
   "metadata": {},
   "outputs": [
    {
     "data": {
      "text/plain": [
       "'Error with type symmetric and shape (4,1)'"
      ]
     },
     "execution_count": 9,
     "metadata": {},
     "output_type": "execute_result"
    }
   ],
   "source": [
    "matrix_generate(4, 1, type_ = \"symmetric\")"
   ]
  },
  {
   "cell_type": "code",
   "execution_count": 10,
   "id": "808005b1-0fcc-4b0a-b180-fa3cab290bfa",
   "metadata": {},
   "outputs": [
    {
     "data": {
      "text/plain": [
       "array([[0.77271316, 0.        , 0.        , 0.        ],\n",
       "       [0.        , 0.74439864, 0.        , 0.        ],\n",
       "       [0.        , 0.        , 0.07898522, 0.        ],\n",
       "       [0.        , 0.        , 0.        , 0.27484954]])"
      ]
     },
     "execution_count": 10,
     "metadata": {},
     "output_type": "execute_result"
    }
   ],
   "source": [
    "matrix_generate(4, 4, type_ = \"diagonal\")"
   ]
  },
  {
   "cell_type": "code",
   "execution_count": 11,
   "id": "87d90955-1c8d-4c6c-92bb-178a785449b3",
   "metadata": {},
   "outputs": [
    {
     "data": {
      "text/plain": [
       "'Error with type diagonal and shape (4,1)'"
      ]
     },
     "execution_count": 11,
     "metadata": {},
     "output_type": "execute_result"
    }
   ],
   "source": [
    "matrix_generate(4, 1, type_ = \"diagonal\")"
   ]
  },
  {
   "cell_type": "code",
   "execution_count": 12,
   "id": "a70a0bbf-0940-4832-a449-1b4bd5f0bb5e",
   "metadata": {},
   "outputs": [
    {
     "data": {
      "text/plain": [
       "(array([[1.68267532, 1.75536175, 1.58335835, 1.95419693],\n",
       "        [1.48746614, 1.49159562, 1.07817673, 1.50885609],\n",
       "        [1.44649873, 1.43617216, 0.9415128 , 1.4687087 ],\n",
       "        [1.34480151, 1.4047224 , 1.28408842, 1.55274982]]),\n",
       " -1.088298984652063e-17)"
      ]
     },
     "execution_count": 12,
     "metadata": {},
     "output_type": "execute_result"
    }
   ],
   "source": [
    "A = matrix_generate(4, 4, type_ = \"degenerate\")\n",
    "\n",
    "A, np.linalg.det(A)"
   ]
  },
  {
   "cell_type": "code",
   "execution_count": 13,
   "id": "9c4d070a-9166-45c0-acd7-c2c45df5844b",
   "metadata": {},
   "outputs": [
    {
     "data": {
      "text/plain": [
       "'Error with type degenerate and shape (4,1)'"
      ]
     },
     "execution_count": 13,
     "metadata": {},
     "output_type": "execute_result"
    }
   ],
   "source": [
    "matrix_generate(4, 1, type_ = \"degenerate\")"
   ]
  },
  {
   "cell_type": "code",
   "execution_count": 14,
   "id": "b6e64f11-c1c2-4177-ac19-9da18a2f7076",
   "metadata": {},
   "outputs": [
    {
     "data": {
      "text/plain": [
       "array([[1.        , 0.41606713, 0.36227413, 0.09077771],\n",
       "       [0.        , 0.        , 0.        , 1.        ],\n",
       "       [0.        , 0.        , 0.        , 0.        ],\n",
       "       [0.        , 0.        , 0.        , 0.        ]])"
      ]
     },
     "execution_count": 14,
     "metadata": {},
     "output_type": "execute_result"
    }
   ],
   "source": [
    "matrix_generate(4, 2, type_ = \"step\")"
   ]
  },
  {
   "cell_type": "code",
   "execution_count": 15,
   "id": "87461a4c-8bc6-4261-97c7-3503b589e7ee",
   "metadata": {},
   "outputs": [
    {
     "data": {
      "text/plain": [
       "'Error with type step and shape (2,4)'"
      ]
     },
     "execution_count": 15,
     "metadata": {},
     "output_type": "execute_result"
    }
   ],
   "source": [
    "matrix_generate(2, 4, type_ = \"step\")"
   ]
  },
  {
   "cell_type": "code",
   "execution_count": 16,
   "id": "7461e09e-bbb5-4c43-8582-21ce93220725",
   "metadata": {},
   "outputs": [
    {
     "data": {
      "text/plain": [
       "array([[ 0.00420732,  0.00314262, -0.00148425],\n",
       "       [ 0.00547324, -0.00036734,  0.00488417],\n",
       "       [-0.00571269,  0.00319853,  0.00843291],\n",
       "       [ 0.00996022, -0.00589095, -0.00467333]])"
      ]
     },
     "execution_count": 16,
     "metadata": {},
     "output_type": "execute_result"
    }
   ],
   "source": [
    "matrix_generate(4, 3, type_ = \"perturbation\", eps = 0.01)"
   ]
  },
  {
   "cell_type": "markdown",
   "id": "02a2a84c-903e-4452-a28c-99bd3b342448",
   "metadata": {},
   "source": [
    "По какой норме искать максимум?"
   ]
  },
  {
   "cell_type": "markdown",
   "id": "276e0380-5024-4c7e-8158-c8a8cd912311",
   "metadata": {},
   "source": [
    "Про вероятности: вырожденные матрицы составляют во множестве невырожденных меру нуль. Поэтому в случаях, когда матрица может быть невырожденной, она будет таковой с вероятностью 1. Или что значит посчитать численно?"
   ]
  },
  {
   "cell_type": "code",
   "execution_count": 17,
   "id": "7c2e9149-e605-4aa6-bc71-418fccb0e276",
   "metadata": {},
   "outputs": [
    {
     "data": {
      "text/plain": [
       "(array([  1.,   0.,   0.,   0.,   1.,   0.,   0.,   1.,   2.,   1.,   1.,\n",
       "          3.,   3.,   3.,   9.,  14.,   9.,  17.,  26.,  25.,  20.,  35.,\n",
       "         53.,  40.,  53.,  68.,  69.,  77.,  86., 100., 121., 142., 155.,\n",
       "        143., 152., 185., 204., 211., 252., 245., 245., 276., 329., 302.,\n",
       "        280., 347., 316., 303., 333., 286., 300., 295., 305., 247., 262.,\n",
       "        263., 224., 231., 204., 229., 203., 177., 163., 138., 150., 125.,\n",
       "        112.,  79.,  79.,  89.,  74.,  80.,  47.,  64.,  39.,  34.,  34.,\n",
       "         28.,  27.,  17.,  18.,  20.,  18.,  10.,  14.,   7.,  14.,   3.,\n",
       "          5.,   5.,   5.,   3.,   1.,   5.,   1.,   3.,   1.,   1.,   0.,\n",
       "          3.]),\n",
       " array([0.0268579 , 0.02970184, 0.03254578, 0.03538972, 0.03823366,\n",
       "        0.0410776 , 0.04392154, 0.04676548, 0.04960942, 0.05245335,\n",
       "        0.05529729, 0.05814123, 0.06098517, 0.06382911, 0.06667305,\n",
       "        0.06951699, 0.07236093, 0.07520487, 0.07804881, 0.08089275,\n",
       "        0.08373669, 0.08658063, 0.08942457, 0.0922685 , 0.09511244,\n",
       "        0.09795638, 0.10080032, 0.10364426, 0.1064882 , 0.10933214,\n",
       "        0.11217608, 0.11502002, 0.11786396, 0.1207079 , 0.12355184,\n",
       "        0.12639578, 0.12923972, 0.13208365, 0.13492759, 0.13777153,\n",
       "        0.14061547, 0.14345941, 0.14630335, 0.14914729, 0.15199123,\n",
       "        0.15483517, 0.15767911, 0.16052305, 0.16336699, 0.16621093,\n",
       "        0.16905487, 0.17189881, 0.17474274, 0.17758668, 0.18043062,\n",
       "        0.18327456, 0.1861185 , 0.18896244, 0.19180638, 0.19465032,\n",
       "        0.19749426, 0.2003382 , 0.20318214, 0.20602608, 0.20887002,\n",
       "        0.21171396, 0.21455789, 0.21740183, 0.22024577, 0.22308971,\n",
       "        0.22593365, 0.22877759, 0.23162153, 0.23446547, 0.23730941,\n",
       "        0.24015335, 0.24299729, 0.24584123, 0.24868517, 0.25152911,\n",
       "        0.25437304, 0.25721698, 0.26006092, 0.26290486, 0.2657488 ,\n",
       "        0.26859274, 0.27143668, 0.27428062, 0.27712456, 0.2799685 ,\n",
       "        0.28281244, 0.28565638, 0.28850032, 0.29134426, 0.29418819,\n",
       "        0.29703213, 0.29987607, 0.30272001, 0.30556395, 0.30840789,\n",
       "        0.31125183]),\n",
       " <BarContainer object of 100 artists>)"
      ]
     },
     "execution_count": 17,
     "metadata": {},
     "output_type": "execute_result"
    },
    {
     "data": {
      "image/png": "[encoded data removed]",
      "text/plain": [
       "<Figure size 640x480 with 1 Axes>"
      ]
     },
     "metadata": {},
     "output_type": "display_data"
    }
   ],
   "source": [
    "max_eigs = []\n",
    "\n",
    "for i in range(10000):\n",
    "    A = matrix_generate(10, 10, type_ = \"perturbation\", eps = 0.1)\n",
    "    max_eigs.append(abs(max(scipy.linalg.eigvals(A))))\n",
    "\n",
    "plt.hist(max_eigs, bins=100)"
   ]
  },
  {
   "cell_type": "markdown",
   "id": "d7d1e2ae-b5ea-46eb-b3d6-6420487c157d",
   "metadata": {},
   "source": [
    "# Problem 2"
   ]
  },
  {
   "cell_type": "code",
   "execution_count": 18,
   "id": "18adeef8-9fa3-46b1-a105-c4a76391cade",
   "metadata": {},
   "outputs": [],
   "source": [
    "def max_norm(x):\n",
    "    ans = 0\n",
    "    for i in x:\n",
    "        ans = max(ans, abs(i))\n",
    "    return ans\n",
    "\n",
    "def L1_norm(x):\n",
    "    ans = 0\n",
    "    for i in x:\n",
    "        ans += abs(i)\n",
    "    return ans\n",
    "\n",
    "def L2_norm(x):\n",
    "    ans = 0\n",
    "    for i in x:\n",
    "        ans += i ** 2\n",
    "    return ans ** 0.5"
   ]
  },
  {
   "cell_type": "code",
   "execution_count": 19,
   "id": "12021131-4f26-44be-97a4-be713013290d",
   "metadata": {},
   "outputs": [],
   "source": [
    "def mat_max_norm(A):\n",
    "    ans = 0\n",
    "    for i in A:\n",
    "        ans_i = 0\n",
    "        for j in i:\n",
    "            ans_i += abs(j)\n",
    "        ans = max(ans, ans_i)\n",
    "    return ans\n",
    "\n",
    "def mat_L1_norm(A):\n",
    "    return mat_max_norm(A.T)\n",
    "\n",
    "def mat_L2_norm(A):\n",
    "    eigs = scipy.linalg.eigvals(A.T @ A)\n",
    "    return max(eigs) ** 0.5"
   ]
  },
  {
   "cell_type": "code",
   "execution_count": 20,
   "id": "c8ae44d3-c4b0-463f-8390-6848fb29d551",
   "metadata": {},
   "outputs": [],
   "source": [
    "def cond_num(A, norm=\"L1\"):\n",
    "    if norm == \"L1\":\n",
    "        A1 = np.linalg.matrix_power(A, -1)\n",
    "        return mat_L1_norm(A1) * mat_L1_norm(A)\n",
    "\n",
    "    elif norm == \"L2\":\n",
    "        return (max(scipy.linalg.eigvals(A.T @ A)) / min(scipy.linalg.eigvals(A.T @ A))) ** 0.5\n",
    "\n",
    "    elif norm == \"max\":\n",
    "        return cond_num(A.T)"
   ]
  },
  {
   "cell_type": "code",
   "execution_count": 21,
   "id": "46decf0c-5ab3-4217-b021-f48111b29dd5",
   "metadata": {},
   "outputs": [],
   "source": [
    "def func(A, f, norm=\"L1\"):\n",
    "    A1 = np.linalg.matrix_power(A, -1)\n",
    "    if norm == \"L1\":\n",
    "        return (mat_L1_norm(A1) * L1_norm(f) / L1_norm(A1 @ f)) ** (-1)\n",
    "\n",
    "    elif norm == \"L2\":\n",
    "        return mat_L2_norm(A1) * L2_norm(f) / L2_norm(A1 @ f)\n",
    "\n",
    "    elif norm == \"max\":\n",
    "        return mat_max_norm(A1) * max_norm(f) / max_norm(A1 @ f)\n",
    "\n",
    "def normize(f, norm=\"L1\"):\n",
    "    if norm == \"L1\":\n",
    "        return f / L1_norm(f)\n",
    "\n",
    "    elif norm == \"L2\":\n",
    "        return f / L2_norm(f)\n",
    "\n",
    "    elif norm == \"max\":\n",
    "        return f / max_norm(f)\n",
    "\n",
    "def cond_num_approx(A, norm=\"L1\"):\n",
    "    eps = 0.000001\n",
    "    h = 0.0001\n",
    "    dist_prev = 1\n",
    "\n",
    "    n = len(A)\n",
    "    f = normize(np.random.random(size=(n, 1)), norm)\n",
    "    \n",
    "    while (dist_prev > eps):\n",
    "        grad = []\n",
    "        for i in range(n):\n",
    "            f_p = f.copy()\n",
    "            f_m = f.copy()\n",
    "\n",
    "            f_p[i] += h\n",
    "            f_m[i] -= h\n",
    "\n",
    "            grad.append((func(A, f_p, norm) - func(A, f_m, norm)) / (2 * h))\n",
    "\n",
    "        f_old = f.copy()\n",
    "        f -= np.asarray(grad) * 0.0001\n",
    "        f = normize(f)\n",
    "\n",
    "        if norm == \"L1\":\n",
    "            dist_prev = L1_norm(f - f_old)\n",
    "\n",
    "        elif norm == \"L2\":\n",
    "            dist_prev = L2_norm(f - f_old)\n",
    "\n",
    "        elif norm == \"max\":\n",
    "            dist_prev = max_norm(f - f_old)\n",
    "\n",
    "        print(func(A, f))\n",
    "\n",
    "    return func(A, f)"
   ]
  },
  {
   "cell_type": "code",
   "execution_count": 22,
   "id": "f2cfb763-6f75-46cf-af93-2f6b81bdeb43",
   "metadata": {},
   "outputs": [],
   "source": [
    "A = matrix_generate(5, 5, type_ = \"full\")\n",
    "\n",
    "# test of convergence to actual conditional number\n",
    "# 1 / cond_num_approx(A), cond_num(A)"
   ]
  },
  {
   "cell_type": "markdown",
   "id": "73e1a0b5-9692-41e8-8d99-e92789b1aabd",
   "metadata": {},
   "source": [
    "# Problem 3"
   ]
  },
  {
   "cell_type": "markdown",
   "id": "589e8532-efeb-4180-8cfa-c07e8549bb25",
   "metadata": {},
   "source": [
    "n - размерность пространства. $$ \\frac{1}{\\sqrt{n}} ||\\mathbf{x}||_2 \\leq ||\\mathbf{x}||_1 \\leq n ||\\mathbf{x}||_2 $$"
   ]
  },
  {
   "cell_type": "markdown",
   "id": "f8e92981-7ad7-4d14-99e9-e85f260debfe",
   "metadata": {},
   "source": [
    "# Problem 4"
   ]
  },
  {
   "cell_type": "markdown",
   "id": "8bf90046-63fa-418b-a3a4-87124306c56a",
   "metadata": {},
   "source": [
    "1. $$ ||x||_2 = \\sqrt{\\sum\\limits_{i = 1}^{m} x_i^2} \\leq \\sqrt{m \\cdot (\\max\\limits_{i} x_i)^2} = \\sqrt{m} \\cdot \\max\\limits_{i} x_i = \\sqrt{m} \\cdot ||x||_{\\infty} $$\n",
    "Пример равенства: $ x = (1, 1, \\dots, 1) \\in \\mathbb{R}^m $.\n",
    "\n",
    "2. Здесь $ e = (1, 1, \\dots, 1) \\in \\mathbb{R}^n $ $$ ||A||_{\\infty} = \\max\\limits_{i} \\sum\\limits_{j} |a_{ij}| = ||Ae||_{\\infty} \\leq ||Ae||_2 \\leq ||A||_2 ||e||_2 = \\sqrt{n} \\cdot ||A||_2 $$\n",
    "Пример равенства: матрица, в которой $ a_{11} = 1 $, а все остальные элементы равны $ 0 $. "
   ]
  },
  {
   "cell_type": "markdown",
   "id": "7f08304f-6018-4577-9be5-5adb3b373864",
   "metadata": {},
   "source": [
    "# Problem 5"
   ]
  },
  {
   "cell_type": "markdown",
   "id": "d6ad4df7-8690-4cf8-884d-d63f0061bc79",
   "metadata": {},
   "source": [
    "Без ограничения общности рассмотрим домножение на $U$ слева. Матрицу $A$ рассмотрим по столбцам. Квадрат нормы Фробениуса равен сумме квадратов длин векторов, которые задаются столбцами $A$. При домножении $A$ на $U$ длины этих векторов не меняются в силу унитарности $U$. Поэтому и квадраты длин не меняются, значит сохраняется и квадрат нормы Фробениуса."
   ]
  },
  {
   "cell_type": "markdown",
   "id": "7be4fffc-d581-4f32-acbc-4f284d8590f3",
   "metadata": {},
   "source": [
    "# Problem 6*"
   ]
  },
  {
   "cell_type": "code",
   "execution_count": 23,
   "id": "c933e723-591d-4b92-a53e-506ecf9451da",
   "metadata": {},
   "outputs": [],
   "source": [
    "c = 5"
   ]
  },
  {
   "cell_type": "code",
   "execution_count": 24,
   "id": "4fa346ef-8ae6-4432-a976-b39e4d1b4334",
   "metadata": {},
   "outputs": [],
   "source": [
    "# Generate some data\n",
    "np.random.seed(42)\n",
    "lambda1 = np.random.normal(size=(c, c))\n",
    "lambda2 = np.random.normal(size=(c, c))\n",
    "lambda3 = np.random.normal(size=(c, c))\n",
    "G1 = np.random.normal(size=(c, c, c))\n",
    "G2 = np.random.normal(size=(c, c, c))\n",
    "U = np.random.normal(size=(c, c, c, c))"
   ]
  },
  {
   "cell_type": "code",
   "execution_count": 25,
   "id": "b9a6a400-c10f-4a5b-b215-ebeaaf0d9899",
   "metadata": {},
   "outputs": [
    {
     "name": "stdout",
     "output_type": "stream",
     "text": [
      "['einsum_path', (0, 1), (0, 1), (0, 3), (1, 2), (0, 1)]   Complete contraction:  ab,cbd,de,feg,gh,ijcf->ahij\n",
      "         Naive scaling:  10\n",
      "     Optimized scaling:  6\n",
      "      Naive FLOP count:  5.859e+07\n",
      "  Optimized FLOP count:  4.125e+04\n",
      "   Theoretical speedup:  1420.420\n",
      "  Largest intermediate:  6.250e+02 elements\n",
      "--------------------------------------------------------------------------\n",
      "scaling                  current                                remaining\n",
      "--------------------------------------------------------------------------\n",
      "   4                 cbd,ab->acd                 de,feg,gh,ijcf,acd->ahij\n",
      "   4                 feg,de->dfg                    gh,ijcf,acd,dfg->ahij\n",
      "   4                 dfg,gh->dfh                       ijcf,acd,dfh->ahij\n",
      "   5               dfh,acd->acfh                          ijcf,acfh->ahij\n",
      "   6             acfh,ijcf->ahij                               ahij->ahij\n"
     ]
    }
   ],
   "source": [
    "out = np.einsum_path(\"ab,cbd,de,feg,gh,ijcf->ahij\", lambda1, G1, lambda2, G2, lambda3, U, optimize='optimal')\n",
    "\n",
    "print(out[0], out[1])"
   ]
  },
  {
   "cell_type": "code",
   "execution_count": 26,
   "id": "29e4dccf-7c29-4e3f-9775-df986fa5698b",
   "metadata": {},
   "outputs": [],
   "source": [
    "def Z_naive(lambda1, lambda2, lambda3, G1, G2, U):\n",
    "    c = lambda1.shape[0]\n",
    "    Z = np.zeros(shape=(c, c, c, c))\n",
    "    for a, b, c, d, e, f, g, h, i, j in itertools.product(*([range(c)]*10)):\n",
    "        Z[a, h, i, j] += lambda1[a, b]*lambda2[d, e]*lambda3[g, h]*G1[c, b, d]*G2[f, e, g]*U[i, j, c, f]\n",
    "    return Z"
   ]
  },
  {
   "cell_type": "code",
   "execution_count": 27,
   "id": "36446213-2b9a-4792-b56c-f9bece575996",
   "metadata": {},
   "outputs": [],
   "source": [
    "def Z_optimal(lambda1, lambda2, lambda3, G1, G2, U):\n",
    "    c = lambda1.shape[0]\n",
    "\n",
    "    lG1 = np.tensordot(G1, lambda1, axes = ([1], [1]))\n",
    "    lG2 = np.tensordot(G2, lambda2, axes = ([1], [1]))\n",
    "    lG3 = np.tensordot(lG2, lambda3, axes = ([2], [0]))\n",
    "    GG = np.tensordot(lG3, lG1, axes = ([0], [2]))\n",
    "    Z = np.tensordot(GG, U, axes = ([1, 2], [2, 3]))\n",
    "    \n",
    "    return Z"
   ]
  },
  {
   "cell_type": "code",
   "execution_count": 28,
   "id": "6945291a-e8b0-483e-b19d-d043d10099bd",
   "metadata": {},
   "outputs": [
    {
     "name": "stdout",
     "output_type": "stream",
     "text": [
      "7.9 s ± 297 ms per loop (mean ± std. dev. of 7 runs, 1 loop each)\n"
     ]
    }
   ],
   "source": [
    "%%timeit\n",
    "Z = Z_naive(lambda1, lambda2, lambda3, G1, G2, U)"
   ]
  },
  {
   "cell_type": "code",
   "execution_count": 29,
   "id": "68b1572a-2262-4973-acc3-030c0ef30a91",
   "metadata": {},
   "outputs": [
    {
     "name": "stdout",
     "output_type": "stream",
     "text": [
      "35.1 µs ± 1.18 µs per loop (mean ± std. dev. of 7 runs, 10,000 loops each)\n"
     ]
    }
   ],
   "source": [
    "%%timeit\n",
    "Z = Z_optimal(lambda1, lambda2, lambda3, G1, G2, U)"
   ]
  },
  {
   "cell_type": "code",
   "execution_count": 30,
   "id": "0ad95605-8663-4c56-ab5a-d86d55db66e4",
   "metadata": {},
   "outputs": [
    {
     "name": "stdout",
     "output_type": "stream",
     "text": [
      "664 µs ± 2.93 µs per loop (mean ± std. dev. of 7 runs, 1,000 loops each)\n"
     ]
    }
   ],
   "source": [
    "%%timeit\n",
    "Z = np.einsum(\"ab,cbd,de,feg,gh,ijcf->ahij\", lambda1, G1, lambda2, G2, lambda3, U, optimize='optimal')"
   ]
  },
  {
   "cell_type": "markdown",
   "id": "13891deb-0147-4c8b-a36a-147c8ae90dc1",
   "metadata": {},
   "source": [
    "Для Z_optimal требуется $ \\chi^6 $ операций."
   ]
  }
 ],
 "metadata": {
  "kernelspec": {
   "display_name": "Python 3 (ipykernel)",
   "language": "python",
   "name": "python3"
  },
  "language_info": {
   "codemirror_mode": {
    "name": "ipython",
    "version": 3
   },
   "file_extension": ".py",
   "mimetype": "text/x-python",
   "name": "python",
   "nbconvert_exporter": "python",
   "pygments_lexer": "ipython3",
   "version": "3.11.5"
  }
 },
 "nbformat": 4,
 "nbformat_minor": 5
}
